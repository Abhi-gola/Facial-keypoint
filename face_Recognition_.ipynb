{
  "cells": [
    {
      "cell_type": "markdown",
      "metadata": {
        "id": "view-in-github",
        "colab_type": "text"
      },
      "source": [
        "<a href=\"https://colab.research.google.com/github/Abhi-gola/Facial-keypoint/blob/main/face_Recognition_.ipynb\" target=\"_parent\"><img src=\"https://colab.research.google.com/assets/colab-badge.svg\" alt=\"Open In Colab\"/></a>"
      ]
    },
    {
      "cell_type": "code",
      "source": [
        "from google.colab import drive\n",
        "drive.mount('/content/drive')"
      ],
      "metadata": {
        "colab": {
          "base_uri": "https://localhost:8080/"
        },
        "id": "MkHWvT9njgPK",
        "outputId": "cc0636b4-bd12-48c8-d628-6ae43d1180d0"
      },
      "id": "MkHWvT9njgPK",
      "execution_count": 1,
      "outputs": [
        {
          "output_type": "stream",
          "name": "stdout",
          "text": [
            "Mounted at /content/drive\n"
          ]
        }
      ]
    },
    {
      "cell_type": "code",
      "execution_count": 2,
      "id": "41c8add3",
      "metadata": {
        "id": "41c8add3"
      },
      "outputs": [],
      "source": [
        "import tensorflow as tf\n",
        "\n",
        "from tensorflow.keras.layers import *\n",
        "from keras.callbacks import ModelCheckpoint\n",
        "from tensorflow.keras.models import Sequential\n",
        "from tensorflow.keras.utils import to_categorical\n",
        "from sklearn.model_selection import train_test_split\n",
        "from sklearn.metrics import confusion_matrix\n",
        "from tensorflow.keras.preprocessing.image import ImageDataGenerator\n",
        "from tensorflow.keras.optimizers import RMSprop\n",
        "from tensorflow.keras.callbacks import ReduceLROnPlateau, EarlyStopping\n",
        "import pandas as pd\n",
        "import numpy as np\n",
        "import matplotlib.pyplot as plt"
      ]
    },
    {
      "cell_type": "code",
      "source": [
        "!pip install split-folders"
      ],
      "metadata": {
        "colab": {
          "base_uri": "https://localhost:8080/"
        },
        "id": "ccomgcBWkA_e",
        "outputId": "4995a1b7-6192-4e85-ba57-22a0813a0a68"
      },
      "id": "ccomgcBWkA_e",
      "execution_count": 3,
      "outputs": [
        {
          "output_type": "stream",
          "name": "stdout",
          "text": [
            "Looking in indexes: https://pypi.org/simple, https://us-python.pkg.dev/colab-wheels/public/simple/\n",
            "Collecting split-folders\n",
            "  Downloading split_folders-0.5.1-py3-none-any.whl (8.4 kB)\n",
            "Installing collected packages: split-folders\n",
            "Successfully installed split-folders-0.5.1\n"
          ]
        }
      ]
    },
    {
      "cell_type": "code",
      "source": [
        "!mkdir Val_data"
      ],
      "metadata": {
        "id": "nSbnsvsOkcXF"
      },
      "id": "nSbnsvsOkcXF",
      "execution_count": 4,
      "outputs": []
    },
    {
      "cell_type": "code",
      "execution_count": 5,
      "id": "b934a2c8",
      "metadata": {
        "id": "b934a2c8",
        "outputId": "e6fcdc42-8450-4119-ede2-1240c0725c67",
        "colab": {
          "base_uri": "https://localhost:8080/"
        }
      },
      "outputs": [
        {
          "output_type": "stream",
          "name": "stderr",
          "text": [
            "Copying files: 6744 files [02:33, 43.83 files/s] \n"
          ]
        }
      ],
      "source": [
        "import splitfolders\n",
        "input_folder = '/content/drive/MyDrive/Datasets'\n",
        "\n",
        "splitfolders.ratio(input_folder, output='Val_data',\n",
        "                   ratio=(.7, .15, .15),\n",
        "                   group_prefix=None)"
      ]
    },
    {
      "cell_type": "code",
      "execution_count": 6,
      "id": "44f9390d",
      "metadata": {
        "id": "44f9390d",
        "outputId": "4c3bc1e1-d6c8-4baa-c87d-59a9a42833c4",
        "colab": {
          "base_uri": "https://localhost:8080/"
        }
      },
      "outputs": [
        {
          "output_type": "stream",
          "name": "stdout",
          "text": [
            "Found 4718 images belonging to 6 classes.\n",
            "*** process complete\n"
          ]
        }
      ],
      "source": [
        "import os\n",
        "import cv2\n",
        "sdir= r'/content/Val_data/train' \n",
        "ext='jpg' \n",
        "prefix='aug' \n",
        "batch_size=32 \n",
        "passes=50 \n",
        "datagen = ImageDataGenerator( rotation_range=20, width_shift_range=0.1, height_shift_range=0.2, shear_range = 0.2,\n",
        "                                zoom_range = 0.1,  horizontal_flip=True, fill_mode = 'nearest')\n",
        "data=datagen.flow_from_directory(directory = sdir, batch_size = batch_size,  target_size = (100, 100),\n",
        "                                 color_mode = 'grayscale', shuffle=True)\n",
        "for i in range (passes):\n",
        "    images, labels=next(data)\n",
        "    class_dict=data.class_indices\n",
        "    new_dict={}\n",
        "    # make a new dictionary with keys and values reversed\n",
        "    for key, value in class_dict.items(): # dictionary is now {numeric class label: string of class_name}\n",
        "        new_dict[value]=key    \n",
        "    for j in range (len(labels)):                \n",
        "        class_name = new_dict[np.argmax(labels[j])]         \n",
        "        dir_path=os.path.join(sdir,class_name )         \n",
        "        new_file=prefix + '-' +str(i*batch_size +j) + '.'  + ext       \n",
        "        img_path=os.path.join(dir_path, new_file)        \n",
        "        img=cv2.cvtColor(images[j], cv2.COLOR_BGR2RGB)\n",
        "        cv2.imwrite(img_path, img)\n",
        "print ('*** process complete')  "
      ]
    },
    {
      "cell_type": "code",
      "execution_count": 7,
      "id": "e4bdc87e",
      "metadata": {
        "id": "e4bdc87e"
      },
      "outputs": [],
      "source": [
        "train = ImageDataGenerator(rescale=1./255.,\n",
        "                                   rotation_range=10,\n",
        "                                   width_shift_range=0.25,\n",
        "                                   height_shift_range=0.25,\n",
        "                                   shear_range=0.1,\n",
        "                                   zoom_range=0.25,\n",
        "                                   horizontal_flip=False)\n",
        "\n",
        "val = ImageDataGenerator(rescale=1./255.)\n",
        "test = ImageDataGenerator(rescale=1./255.)"
      ]
    },
    {
      "cell_type": "code",
      "execution_count": 8,
      "id": "b5d8ac6a",
      "metadata": {
        "id": "b5d8ac6a",
        "outputId": "8a511cfc-6666-4fb0-c5ec-92b6c59a7d73",
        "colab": {
          "base_uri": "https://localhost:8080/"
        }
      },
      "outputs": [
        {
          "output_type": "stream",
          "name": "stdout",
          "text": [
            "Found 6318 images belonging to 6 classes.\n",
            "Found 1010 images belonging to 6 classes.\n",
            "Found 1016 images belonging to 6 classes.\n"
          ]
        }
      ],
      "source": [
        "train_data = train.flow_from_directory(r'/content/Val_data/train', target_size=(100,100),\n",
        "                                       batch_size=20, shuffle=True,\n",
        "                                       class_mode=\"categorical\", color_mode=\"grayscale\")\n",
        "val_data = val.flow_from_directory(r'/content/Val_data/val', target_size=(100,100),\n",
        "                                       batch_size=20, shuffle=True,\n",
        "                                       class_mode=\"categorical\",color_mode=\"grayscale\")\n",
        "test_data = test.flow_from_directory(r'/content/Val_data/test', target_size=(100,100),\n",
        "                                       batch_size=20, shuffle=True,\n",
        "                                       class_mode=\"categorical\",color_mode=\"grayscale\")"
      ]
    },
    {
      "cell_type": "code",
      "execution_count": 9,
      "id": "61abfe93",
      "metadata": {
        "id": "61abfe93",
        "outputId": "6538973e-9c16-4049-eda7-160ca653b406",
        "colab": {
          "base_uri": "https://localhost:8080/"
        }
      },
      "outputs": [
        {
          "output_type": "execute_result",
          "data": {
            "text/plain": [
              "(100, 100, 1)"
            ]
          },
          "metadata": {},
          "execution_count": 9
        }
      ],
      "source": [
        "(train_data[0][0][0]).shape"
      ]
    },
    {
      "cell_type": "code",
      "execution_count": 10,
      "id": "ff9d80c9",
      "metadata": {
        "id": "ff9d80c9",
        "outputId": "3e6bad42-68d6-48aa-9f4d-493cab6de3c8",
        "colab": {
          "base_uri": "https://localhost:8080/"
        }
      },
      "outputs": [
        {
          "output_type": "stream",
          "name": "stdout",
          "text": [
            "6\n"
          ]
        }
      ],
      "source": [
        "num_class = len(train_data.class_indices)\n",
        "print(num_class)"
      ]
    },
    {
      "cell_type": "code",
      "execution_count": 11,
      "id": "cfc6ad9b",
      "metadata": {
        "id": "cfc6ad9b",
        "outputId": "efdc173e-54f8-4dbd-c97b-4a4d909b424a",
        "colab": {
          "base_uri": "https://localhost:8080/"
        }
      },
      "outputs": [
        {
          "output_type": "stream",
          "name": "stdout",
          "text": [
            "Model: \"sequential\"\n",
            "_________________________________________________________________\n",
            " Layer (type)                Output Shape              Param #   \n",
            "=================================================================\n",
            " conv2d (Conv2D)             (None, 98, 98, 64)        640       \n",
            "                                                                 \n",
            " batch_normalization (BatchN  (None, 98, 98, 64)       256       \n",
            " ormalization)                                                   \n",
            "                                                                 \n",
            " conv2d_1 (Conv2D)           (None, 96, 96, 64)        36928     \n",
            "                                                                 \n",
            " batch_normalization_1 (Batc  (None, 96, 96, 64)       256       \n",
            " hNormalization)                                                 \n",
            "                                                                 \n",
            " conv2d_2 (Conv2D)           (None, 96, 96, 64)        102464    \n",
            "                                                                 \n",
            " batch_normalization_2 (Batc  (None, 96, 96, 64)       256       \n",
            " hNormalization)                                                 \n",
            "                                                                 \n",
            " max_pooling2d (MaxPooling2D  (None, 48, 48, 64)       0         \n",
            " )                                                               \n",
            "                                                                 \n",
            " dropout (Dropout)           (None, 48, 48, 64)        0         \n",
            "                                                                 \n",
            " conv2d_3 (Conv2D)           (None, 46, 46, 128)       73856     \n",
            "                                                                 \n",
            " batch_normalization_3 (Batc  (None, 46, 46, 128)      512       \n",
            " hNormalization)                                                 \n",
            "                                                                 \n",
            " conv2d_4 (Conv2D)           (None, 44, 44, 128)       147584    \n",
            "                                                                 \n",
            " batch_normalization_4 (Batc  (None, 44, 44, 128)      512       \n",
            " hNormalization)                                                 \n",
            "                                                                 \n",
            " conv2d_5 (Conv2D)           (None, 44, 44, 128)       409728    \n",
            "                                                                 \n",
            " batch_normalization_5 (Batc  (None, 44, 44, 128)      512       \n",
            " hNormalization)                                                 \n",
            "                                                                 \n",
            " max_pooling2d_1 (MaxPooling  (None, 22, 22, 128)      0         \n",
            " 2D)                                                             \n",
            "                                                                 \n",
            " dropout_1 (Dropout)         (None, 22, 22, 128)       0         \n",
            "                                                                 \n",
            " conv2d_6 (Conv2D)           (None, 20, 20, 256)       295168    \n",
            "                                                                 \n",
            " batch_normalization_6 (Batc  (None, 20, 20, 256)      1024      \n",
            " hNormalization)                                                 \n",
            "                                                                 \n",
            " max_pooling2d_2 (MaxPooling  (None, 10, 10, 256)      0         \n",
            " 2D)                                                             \n",
            "                                                                 \n",
            " dropout_2 (Dropout)         (None, 10, 10, 256)       0         \n",
            "                                                                 \n",
            " flatten (Flatten)           (None, 25600)             0         \n",
            "                                                                 \n",
            " dense (Dense)               (None, 256)               6553856   \n",
            "                                                                 \n",
            " dropout_3 (Dropout)         (None, 256)               0         \n",
            "                                                                 \n",
            " batch_normalization_7 (Batc  (None, 256)              1024      \n",
            " hNormalization)                                                 \n",
            "                                                                 \n",
            " dense_1 (Dense)             (None, 128)               32896     \n",
            "                                                                 \n",
            " dropout_4 (Dropout)         (None, 128)               0         \n",
            "                                                                 \n",
            " batch_normalization_8 (Batc  (None, 128)              512       \n",
            " hNormalization)                                                 \n",
            "                                                                 \n",
            " dense_2 (Dense)             (None, 6)                 774       \n",
            "                                                                 \n",
            "=================================================================\n",
            "Total params: 7,658,758\n",
            "Trainable params: 7,656,326\n",
            "Non-trainable params: 2,432\n",
            "_________________________________________________________________\n"
          ]
        }
      ],
      "source": [
        "model = Sequential()\n",
        "\n",
        "model.add(Conv2D(64, kernel_size=3, activation='relu', input_shape=(100, 100, 1)))\n",
        "model.add(BatchNormalization()) #----------------\n",
        "model.add(Conv2D(64, kernel_size=3, activation='relu'))\n",
        "model.add(BatchNormalization()) #----------------\n",
        "model.add(Conv2D(64, kernel_size=5, padding='same', activation='relu'))\n",
        "model.add(BatchNormalization()) #----------------\n",
        "model.add(MaxPooling2D(pool_size=(2, 2)))\n",
        "model.add(Dropout(0.2)) #----------------\n",
        "\n",
        "model.add(Conv2D(128, kernel_size=3, activation='relu'))\n",
        "model.add(BatchNormalization())\n",
        "model.add(Conv2D(128, kernel_size=3, activation='relu'))\n",
        "model.add(BatchNormalization())\n",
        "model.add(Conv2D(128, kernel_size=5, padding='same', activation='relu'))\n",
        "model.add(BatchNormalization())\n",
        "model.add(MaxPooling2D(pool_size=(2, 2)))\n",
        "model.add(Dropout(0.2))\n",
        "\n",
        "model.add(Conv2D(256, kernel_size=3, activation='relu'))\n",
        "model.add(BatchNormalization())\n",
        "model.add(MaxPooling2D(pool_size=(2, 2)))\n",
        "model.add(Dropout(0.2))\n",
        "\n",
        "model.add(Flatten())\n",
        "model.add(Dense(256))\n",
        "model.add(Dropout(0.2))\n",
        "model.add(BatchNormalization())\n",
        "model.add(Dense(128))\n",
        "model.add(Dropout(0.2))\n",
        "model.add(BatchNormalization())\n",
        "model.add(Dense(num_class, activation='softmax'))\n",
        "\n",
        "model.summary()"
      ]
    },
    {
      "cell_type": "code",
      "execution_count": 12,
      "id": "a399fb35",
      "metadata": {
        "id": "a399fb35"
      },
      "outputs": [],
      "source": [
        "learning_rate = 0.001\n",
        "optimizer = RMSprop(learning_rate=learning_rate)\n",
        "\n",
        "model.compile(loss='categorical_crossentropy', optimizer=optimizer, metrics=['acc'])"
      ]
    },
    {
      "cell_type": "code",
      "execution_count": 13,
      "id": "10b65afe",
      "metadata": {
        "id": "10b65afe"
      },
      "outputs": [],
      "source": [
        "learning_rate_reduction = ReduceLROnPlateau(monitor='val_loss', \n",
        "                                            patience=12,\n",
        "                                            verbose=1,\n",
        "                                            factor=0.2, min_lr=1e-6)\n",
        "\n",
        "ch = ModelCheckpoint('models/'+'face'+'.h5', monitor='val_acc', verbose=0, save_best_only=True, mode='max')\n",
        "\n",
        "es = EarlyStopping(monitor='val_loss', mode='min', verbose=0, patience=200)\n",
        "\n",
        "# tensorboard_callback = tf.keras.callbacks.TensorBoard(log_dir=\"logs/\"+datetime.now().strftime(\"%Y%m%d-%H%M%S\"))"
      ]
    },
    {
      "cell_type": "code",
      "execution_count": 14,
      "id": "fd04571a",
      "metadata": {
        "id": "fd04571a",
        "outputId": "15763e62-6ad4-4e48-a4b6-35be09d2fb43",
        "colab": {
          "base_uri": "https://localhost:8080/"
        }
      },
      "outputs": [
        {
          "output_type": "stream",
          "name": "stdout",
          "text": [
            "6318\n"
          ]
        }
      ],
      "source": [
        "import os\n",
        "total_samples = 0\n",
        "for root_dir, cur_dir, files in os.walk(r'/content/Val_data/train'):\n",
        "    total_samples += len(files)\n",
        "print(total_samples)"
      ]
    },
    {
      "cell_type": "code",
      "execution_count": 15,
      "id": "c8a035ca",
      "metadata": {
        "id": "c8a035ca",
        "outputId": "ebb8b640-858b-4260-9d28-d2c7d01c207a",
        "colab": {
          "base_uri": "https://localhost:8080/"
        }
      },
      "outputs": [
        {
          "output_type": "stream",
          "name": "stdout",
          "text": [
            "Epoch 1/70\n",
            "24/24 [==============================] - 22s 151ms/step - loss: 1.3546 - acc: 0.5896 - val_loss: 4.9781 - val_acc: 0.1490 - lr: 0.0010\n",
            "Epoch 2/70\n",
            "24/24 [==============================] - 3s 131ms/step - loss: 0.6497 - acc: 0.7875 - val_loss: 60.5456 - val_acc: 0.1430 - lr: 0.0010\n",
            "Epoch 3/70\n",
            "24/24 [==============================] - 3s 127ms/step - loss: 0.5501 - acc: 0.8083 - val_loss: 8.0211 - val_acc: 0.0660 - lr: 0.0010\n",
            "Epoch 4/70\n",
            "24/24 [==============================] - 3s 126ms/step - loss: 0.5770 - acc: 0.8104 - val_loss: 90.1546 - val_acc: 0.1430 - lr: 0.0010\n",
            "Epoch 5/70\n",
            "24/24 [==============================] - 3s 134ms/step - loss: 0.4108 - acc: 0.8750 - val_loss: 106.9474 - val_acc: 0.1380 - lr: 0.0010\n",
            "Epoch 6/70\n",
            "24/24 [==============================] - 3s 141ms/step - loss: 0.5184 - acc: 0.8562 - val_loss: 65.7927 - val_acc: 0.1430 - lr: 0.0010\n",
            "Epoch 7/70\n",
            "24/24 [==============================] - 3s 124ms/step - loss: 0.3679 - acc: 0.8854 - val_loss: 78.0768 - val_acc: 0.1400 - lr: 0.0010\n",
            "Epoch 8/70\n",
            "24/24 [==============================] - 3s 142ms/step - loss: 0.3155 - acc: 0.9125 - val_loss: 95.4805 - val_acc: 0.1400 - lr: 0.0010\n",
            "Epoch 9/70\n",
            "24/24 [==============================] - 3s 128ms/step - loss: 0.3031 - acc: 0.9021 - val_loss: 93.9083 - val_acc: 0.1400 - lr: 0.0010\n",
            "Epoch 10/70\n",
            "24/24 [==============================] - 3s 142ms/step - loss: 0.2867 - acc: 0.9000 - val_loss: 50.5898 - val_acc: 0.1430 - lr: 0.0010\n",
            "Epoch 11/70\n",
            "24/24 [==============================] - 3s 131ms/step - loss: 0.2996 - acc: 0.9021 - val_loss: 62.2544 - val_acc: 0.1420 - lr: 0.0010\n",
            "Epoch 12/70\n",
            "24/24 [==============================] - 3s 133ms/step - loss: 0.2640 - acc: 0.9042 - val_loss: 34.5776 - val_acc: 0.1430 - lr: 0.0010\n",
            "Epoch 13/70\n",
            "24/24 [==============================] - ETA: 0s - loss: 0.2173 - acc: 0.9312\n",
            "Epoch 13: ReduceLROnPlateau reducing learning rate to 0.00020000000949949026.\n",
            "24/24 [==============================] - 3s 142ms/step - loss: 0.2173 - acc: 0.9312 - val_loss: 45.4366 - val_acc: 0.1410 - lr: 0.0010\n",
            "Epoch 14/70\n",
            "24/24 [==============================] - 3s 137ms/step - loss: 0.1580 - acc: 0.9500 - val_loss: 27.9374 - val_acc: 0.1400 - lr: 2.0000e-04\n",
            "Epoch 15/70\n",
            "24/24 [==============================] - 5s 208ms/step - loss: 0.1530 - acc: 0.9477 - val_loss: 15.8315 - val_acc: 0.1400 - lr: 2.0000e-04\n",
            "Epoch 16/70\n",
            "24/24 [==============================] - 3s 143ms/step - loss: 0.1341 - acc: 0.9708 - val_loss: 14.5110 - val_acc: 0.1420 - lr: 2.0000e-04\n",
            "Epoch 17/70\n",
            "24/24 [==============================] - 3s 133ms/step - loss: 0.1494 - acc: 0.9519 - val_loss: 12.3564 - val_acc: 0.1420 - lr: 2.0000e-04\n",
            "Epoch 18/70\n",
            "24/24 [==============================] - 4s 152ms/step - loss: 0.1346 - acc: 0.9667 - val_loss: 16.9690 - val_acc: 0.1430 - lr: 2.0000e-04\n",
            "Epoch 19/70\n",
            "24/24 [==============================] - 3s 129ms/step - loss: 0.1466 - acc: 0.9479 - val_loss: 10.7776 - val_acc: 0.1420 - lr: 2.0000e-04\n",
            "Epoch 20/70\n",
            "24/24 [==============================] - 3s 143ms/step - loss: 0.1201 - acc: 0.9646 - val_loss: 10.6136 - val_acc: 0.1430 - lr: 2.0000e-04\n",
            "Epoch 21/70\n",
            "24/24 [==============================] - 4s 148ms/step - loss: 0.0914 - acc: 0.9688 - val_loss: 4.7543 - val_acc: 0.1440 - lr: 2.0000e-04\n",
            "Epoch 22/70\n",
            "24/24 [==============================] - 3s 132ms/step - loss: 0.0572 - acc: 0.9792 - val_loss: 7.3095 - val_acc: 0.1420 - lr: 2.0000e-04\n",
            "Epoch 23/70\n",
            "24/24 [==============================] - 4s 153ms/step - loss: 0.0802 - acc: 0.9792 - val_loss: 6.0945 - val_acc: 0.1940 - lr: 2.0000e-04\n",
            "Epoch 24/70\n",
            "24/24 [==============================] - 3s 132ms/step - loss: 0.0945 - acc: 0.9646 - val_loss: 4.9435 - val_acc: 0.1580 - lr: 2.0000e-04\n",
            "Epoch 25/70\n",
            "24/24 [==============================] - 3s 136ms/step - loss: 0.0924 - acc: 0.9729 - val_loss: 7.8505 - val_acc: 0.1430 - lr: 2.0000e-04\n",
            "Epoch 26/70\n",
            "24/24 [==============================] - 3s 145ms/step - loss: 0.0828 - acc: 0.9771 - val_loss: 2.6727 - val_acc: 0.4630 - lr: 2.0000e-04\n",
            "Epoch 27/70\n",
            "24/24 [==============================] - 3s 131ms/step - loss: 0.0969 - acc: 0.9708 - val_loss: 2.2957 - val_acc: 0.3140 - lr: 2.0000e-04\n",
            "Epoch 28/70\n",
            "24/24 [==============================] - 4s 158ms/step - loss: 0.0938 - acc: 0.9771 - val_loss: 0.9686 - val_acc: 0.7740 - lr: 2.0000e-04\n",
            "Epoch 29/70\n",
            "24/24 [==============================] - 3s 140ms/step - loss: 0.0979 - acc: 0.9667 - val_loss: 3.6719 - val_acc: 0.2880 - lr: 2.0000e-04\n",
            "Epoch 30/70\n",
            "24/24 [==============================] - 3s 134ms/step - loss: 0.1410 - acc: 0.9604 - val_loss: 1.2852 - val_acc: 0.5190 - lr: 2.0000e-04\n",
            "Epoch 31/70\n",
            "24/24 [==============================] - 3s 142ms/step - loss: 0.0734 - acc: 0.9750 - val_loss: 0.2197 - val_acc: 0.9080 - lr: 2.0000e-04\n",
            "Epoch 32/70\n",
            "24/24 [==============================] - 4s 157ms/step - loss: 0.0888 - acc: 0.9688 - val_loss: 0.1859 - val_acc: 0.9200 - lr: 2.0000e-04\n",
            "Epoch 33/70\n",
            "24/24 [==============================] - 3s 142ms/step - loss: 0.0492 - acc: 0.9791 - val_loss: 0.0289 - val_acc: 0.9890 - lr: 2.0000e-04\n",
            "Epoch 34/70\n",
            "24/24 [==============================] - 3s 143ms/step - loss: 0.0951 - acc: 0.9728 - val_loss: 0.0354 - val_acc: 0.9880 - lr: 2.0000e-04\n",
            "Epoch 35/70\n",
            "24/24 [==============================] - 3s 136ms/step - loss: 0.0802 - acc: 0.9729 - val_loss: 0.1521 - val_acc: 0.9680 - lr: 2.0000e-04\n",
            "Epoch 36/70\n",
            "24/24 [==============================] - 3s 139ms/step - loss: 0.0597 - acc: 0.9792 - val_loss: 0.0193 - val_acc: 0.9920 - lr: 2.0000e-04\n",
            "Epoch 37/70\n",
            "24/24 [==============================] - 3s 131ms/step - loss: 0.0825 - acc: 0.9750 - val_loss: 0.0651 - val_acc: 0.9840 - lr: 2.0000e-04\n",
            "Epoch 38/70\n",
            "24/24 [==============================] - 3s 132ms/step - loss: 0.0869 - acc: 0.9771 - val_loss: 0.0320 - val_acc: 0.9900 - lr: 2.0000e-04\n",
            "Epoch 39/70\n",
            "24/24 [==============================] - 3s 139ms/step - loss: 0.0576 - acc: 0.9854 - val_loss: 0.0184 - val_acc: 0.9960 - lr: 2.0000e-04\n",
            "Epoch 40/70\n",
            "24/24 [==============================] - 3s 129ms/step - loss: 0.1110 - acc: 0.9646 - val_loss: 0.0126 - val_acc: 0.9930 - lr: 2.0000e-04\n",
            "Epoch 41/70\n",
            "24/24 [==============================] - 3s 134ms/step - loss: 0.0597 - acc: 0.9770 - val_loss: 0.0236 - val_acc: 0.9930 - lr: 2.0000e-04\n",
            "Epoch 42/70\n",
            "24/24 [==============================] - 3s 132ms/step - loss: 0.0797 - acc: 0.9792 - val_loss: 0.0169 - val_acc: 0.9960 - lr: 2.0000e-04\n",
            "Epoch 43/70\n",
            "24/24 [==============================] - 3s 140ms/step - loss: 0.0810 - acc: 0.9812 - val_loss: 0.0295 - val_acc: 0.9980 - lr: 2.0000e-04\n",
            "Epoch 44/70\n",
            "24/24 [==============================] - 3s 143ms/step - loss: 0.0664 - acc: 0.9729 - val_loss: 0.0685 - val_acc: 0.9750 - lr: 2.0000e-04\n",
            "Epoch 45/70\n",
            "24/24 [==============================] - 4s 150ms/step - loss: 0.0414 - acc: 0.9917 - val_loss: 0.0845 - val_acc: 0.9720 - lr: 2.0000e-04\n",
            "Epoch 46/70\n",
            "24/24 [==============================] - 3s 130ms/step - loss: 0.0444 - acc: 0.9875 - val_loss: 0.0164 - val_acc: 0.9950 - lr: 2.0000e-04\n",
            "Epoch 47/70\n",
            "24/24 [==============================] - 3s 131ms/step - loss: 0.0759 - acc: 0.9812 - val_loss: 0.0327 - val_acc: 0.9950 - lr: 2.0000e-04\n",
            "Epoch 48/70\n",
            "24/24 [==============================] - 3s 143ms/step - loss: 0.0362 - acc: 0.9895 - val_loss: 0.0244 - val_acc: 0.9920 - lr: 2.0000e-04\n",
            "Epoch 49/70\n",
            "24/24 [==============================] - 4s 150ms/step - loss: 0.0740 - acc: 0.9833 - val_loss: 0.3324 - val_acc: 0.9060 - lr: 2.0000e-04\n",
            "Epoch 50/70\n",
            "24/24 [==============================] - 3s 144ms/step - loss: 0.0962 - acc: 0.9667 - val_loss: 0.0119 - val_acc: 0.9960 - lr: 2.0000e-04\n",
            "Epoch 51/70\n",
            "24/24 [==============================] - 3s 130ms/step - loss: 0.0668 - acc: 0.9750 - val_loss: 0.0058 - val_acc: 0.9980 - lr: 2.0000e-04\n",
            "Epoch 52/70\n",
            "24/24 [==============================] - 3s 134ms/step - loss: 0.0560 - acc: 0.9874 - val_loss: 0.0140 - val_acc: 0.9980 - lr: 2.0000e-04\n",
            "Epoch 53/70\n",
            "24/24 [==============================] - 3s 132ms/step - loss: 0.0918 - acc: 0.9771 - val_loss: 0.0135 - val_acc: 0.9950 - lr: 2.0000e-04\n",
            "Epoch 54/70\n",
            "24/24 [==============================] - 3s 144ms/step - loss: 0.0313 - acc: 0.9917 - val_loss: 0.0069 - val_acc: 0.9980 - lr: 2.0000e-04\n",
            "Epoch 55/70\n",
            "24/24 [==============================] - 3s 144ms/step - loss: 0.1010 - acc: 0.9771 - val_loss: 0.0217 - val_acc: 0.9990 - lr: 2.0000e-04\n",
            "Epoch 56/70\n",
            "24/24 [==============================] - 3s 132ms/step - loss: 0.0540 - acc: 0.9792 - val_loss: 0.0265 - val_acc: 0.9920 - lr: 2.0000e-04\n",
            "Epoch 57/70\n",
            "24/24 [==============================] - 3s 144ms/step - loss: 0.0297 - acc: 0.9937 - val_loss: 0.0338 - val_acc: 0.9890 - lr: 2.0000e-04\n",
            "Epoch 58/70\n",
            "24/24 [==============================] - 3s 135ms/step - loss: 0.0573 - acc: 0.9833 - val_loss: 0.0257 - val_acc: 0.9940 - lr: 2.0000e-04\n",
            "Epoch 59/70\n",
            "24/24 [==============================] - 3s 145ms/step - loss: 0.0781 - acc: 0.9792 - val_loss: 0.0060 - val_acc: 0.9980 - lr: 2.0000e-04\n",
            "Epoch 60/70\n",
            "24/24 [==============================] - 3s 131ms/step - loss: 0.0591 - acc: 0.9812 - val_loss: 0.0149 - val_acc: 0.9980 - lr: 2.0000e-04\n",
            "Epoch 61/70\n",
            "24/24 [==============================] - 4s 149ms/step - loss: 0.0837 - acc: 0.9707 - val_loss: 0.0216 - val_acc: 0.9970 - lr: 2.0000e-04\n",
            "Epoch 62/70\n",
            "24/24 [==============================] - 3s 129ms/step - loss: 0.0310 - acc: 0.9958 - val_loss: 0.0084 - val_acc: 0.9980 - lr: 2.0000e-04\n",
            "Epoch 63/70\n",
            "24/24 [==============================] - ETA: 0s - loss: 0.0555 - acc: 0.9812\n",
            "Epoch 63: ReduceLROnPlateau reducing learning rate to 4.0000001899898055e-05.\n",
            "24/24 [==============================] - 3s 130ms/step - loss: 0.0555 - acc: 0.9812 - val_loss: 0.0302 - val_acc: 0.9930 - lr: 2.0000e-04\n",
            "Epoch 64/70\n",
            "24/24 [==============================] - 3s 139ms/step - loss: 0.0501 - acc: 0.9833 - val_loss: 0.0201 - val_acc: 0.9960 - lr: 4.0000e-05\n",
            "Epoch 65/70\n",
            "24/24 [==============================] - 3s 132ms/step - loss: 0.0855 - acc: 0.9750 - val_loss: 0.0085 - val_acc: 0.9970 - lr: 4.0000e-05\n",
            "Epoch 66/70\n",
            "24/24 [==============================] - 3s 130ms/step - loss: 0.0670 - acc: 0.9771 - val_loss: 0.0120 - val_acc: 0.9970 - lr: 4.0000e-05\n",
            "Epoch 67/70\n",
            "24/24 [==============================] - 4s 150ms/step - loss: 0.0845 - acc: 0.9792 - val_loss: 0.0118 - val_acc: 0.9970 - lr: 4.0000e-05\n",
            "Epoch 68/70\n",
            "24/24 [==============================] - 3s 143ms/step - loss: 0.0860 - acc: 0.9750 - val_loss: 0.0143 - val_acc: 0.9970 - lr: 4.0000e-05\n",
            "Epoch 69/70\n",
            "24/24 [==============================] - 3s 143ms/step - loss: 0.0766 - acc: 0.9833 - val_loss: 0.0180 - val_acc: 0.9970 - lr: 4.0000e-05\n",
            "Epoch 70/70\n",
            "24/24 [==============================] - 3s 143ms/step - loss: 0.0439 - acc: 0.9833 - val_loss: 0.0142 - val_acc: 0.9970 - lr: 4.0000e-05\n"
          ]
        }
      ],
      "source": [
        "epochs = 70\n",
        "batch_size = 256\n",
        "history = model.fit(train_data,\n",
        "                              steps_per_epoch= total_samples//batch_size,\n",
        "                              epochs=epochs,\n",
        "                              validation_data=val_data,\n",
        "                              validation_steps=50,\n",
        "                              verbose = 1,\n",
        "                              callbacks=[learning_rate_reduction, es, ch])"
      ]
    },
    {
      "cell_type": "code",
      "execution_count": 16,
      "id": "b694bac5",
      "metadata": {
        "id": "b694bac5",
        "colab": {
          "base_uri": "https://localhost:8080/",
          "height": 282
        },
        "outputId": "db3bdaf5-e3d7-4c89-e496-651bcf52659c"
      },
      "outputs": [
        {
          "output_type": "execute_result",
          "data": {
            "text/plain": [
              "[<matplotlib.lines.Line2D at 0x7f139017be20>]"
            ]
          },
          "metadata": {},
          "execution_count": 16
        },
        {
          "output_type": "display_data",
          "data": {
            "text/plain": [
              "<Figure size 432x288 with 1 Axes>"
            ],
            "image/png": "[encoded data removed]"
          },
          "metadata": {
            "needs_background": "light"
          }
        }
      ],
      "source": [
        "acc = history.history['acc']\n",
        "val_acc = history.history['val_acc']\n",
        "loss = history.history['loss']\n",
        "val_loss = history.history['val_loss']\n",
        "\n",
        "epochs_range = range(70)\n",
        "\n",
        "plt.plot(epochs_range, acc, label='Training Accuracy')\n",
        "plt.plot(epochs_range, val_acc, label='Validation Accuracy')"
      ]
    },
    {
      "cell_type": "code",
      "execution_count": 17,
      "id": "e78ea561",
      "metadata": {
        "id": "e78ea561",
        "colab": {
          "base_uri": "https://localhost:8080/"
        },
        "outputId": "9110ee18-e986-439a-e8c8-b211c27e9c71"
      },
      "outputs": [
        {
          "output_type": "stream",
          "name": "stdout",
          "text": [
            "51/51 [==============================] - 1s 28ms/step - loss: 0.0141 - acc: 0.9970\n",
            "Loss: 0.014112967997789383\n",
            "Accuracy: 99.7029721736908\n"
          ]
        }
      ],
      "source": [
        "loss, acc = model.evaluate(val_data)\n",
        "\n",
        "print(f'Loss: {loss}\\nAccuracy: {acc*100}')"
      ]
    },
    {
      "cell_type": "code",
      "execution_count": 18,
      "id": "2118d1c9",
      "metadata": {
        "id": "2118d1c9",
        "colab": {
          "base_uri": "https://localhost:8080/"
        },
        "outputId": "3c7e3225-c7ac-483e-bc00-c3a818062921"
      },
      "outputs": [
        {
          "output_type": "stream",
          "name": "stdout",
          "text": [
            "51/51 [==============================] - 2s 30ms/step - loss: 0.0047 - acc: 0.9980\n",
            "Loss: 0.004722184501588345\n",
            "Accuracy: 99.8031497001648\n"
          ]
        }
      ],
      "source": [
        "loss, acc = model.evaluate(test_data)\n",
        "\n",
        "print(f'Loss: {loss}\\nAccuracy: {acc*100}')"
      ]
    },
    {
      "cell_type": "code",
      "source": [],
      "metadata": {
        "id": "tZJd0niPqsUa"
      },
      "id": "tZJd0niPqsUa",
      "execution_count": null,
      "outputs": []
    }
  ],
  "metadata": {
    "kernelspec": {
      "display_name": "Python 3 (ipykernel)",
      "language": "python",
      "name": "python3"
    },
    "language_info": {
      "codemirror_mode": {
        "name": "ipython",
        "version": 3
      },
      "file_extension": ".py",
      "mimetype": "text/x-python",
      "name": "python",
      "nbconvert_exporter": "python",
      "pygments_lexer": "ipython3",
      "version": "3.9.8"
    },
    "colab": {
      "provenance": [],
      "include_colab_link": true
    },
    "accelerator": "GPU",
    "gpuClass": "standard"
  },
  "nbformat": 4,
  "nbformat_minor": 5
}